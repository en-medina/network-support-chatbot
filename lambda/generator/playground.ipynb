{
 "cells": [
  {
   "cell_type": "code",
   "execution_count": null,
   "id": "11560a6a",
   "metadata": {},
   "outputs": [],
   "source": [
    "from langchain_huggingface import HuggingFaceEndpoint, ChatHuggingFace\n",
    "\n",
    "HUGGINGFACEHUB_API_TOKEN = \"...\"\n",
    "\n",
    "llm = HuggingFaceEndpoint(\n",
    "    repo_id=\"meta-llama/Llama-3.2-3B-Instruct\",\n",
    "    task=\"text-generation\",\n",
    "    max_new_tokens=512,\n",
    "    provider=\"novita\",\n",
    "    huggingfacehub_api_token=HUGGINGFACEHUB_API_TOKEN,\n",
    ")\n",
    "\n",
    "chat = ChatHuggingFace(llm=llm, verbose=True)\n",
    "\n",
    "\n",
    "messages = [(\"system\", \"You are a helpful translator. Translate the user sentence to Spanish.\"), (\"human\", \"I love programming.\"), ]\n",
    "chat.invoke(messages)\n"
   ]
  },
  {
   "cell_type": "markdown",
   "id": "20a30e5b",
   "metadata": {},
   "source": [
    "# Test Agent Executor"
   ]
  },
  {
   "cell_type": "code",
   "execution_count": 6,
   "id": "3cc16beb",
   "metadata": {},
   "outputs": [
    {
     "ename": "ModuleNotFoundError",
     "evalue": "No module named 'langchain_ollama'",
     "output_type": "error",
     "traceback": [
      "\u001b[31m---------------------------------------------------------------------------\u001b[39m",
      "\u001b[31mModuleNotFoundError\u001b[39m                       Traceback (most recent call last)",
      "\u001b[36mCell\u001b[39m\u001b[36m \u001b[39m\u001b[32mIn[6]\u001b[39m\u001b[32m, line 1\u001b[39m\n\u001b[32m----> \u001b[39m\u001b[32m1\u001b[39m \u001b[38;5;28;01mfrom\u001b[39;00m\u001b[38;5;250m \u001b[39m\u001b[34;01mlangchain_ollama\u001b[39;00m\u001b[38;5;250m \u001b[39m\u001b[38;5;28;01mimport\u001b[39;00m ChatOllama\n\u001b[32m      3\u001b[39m \u001b[38;5;28;01mfrom\u001b[39;00m\u001b[38;5;250m \u001b[39m\u001b[34;01mtools\u001b[39;00m\u001b[34;01m.\u001b[39;00m\u001b[34;01mnetwork\u001b[39;00m\u001b[38;5;250m \u001b[39m\u001b[38;5;28;01mimport\u001b[39;00m ping_ip, query_dns_record, get_domain_metadata\n\u001b[32m      4\u001b[39m \u001b[38;5;28;01mfrom\u001b[39;00m\u001b[38;5;250m \u001b[39m\u001b[34;01mlangchain_core\u001b[39;00m\u001b[34;01m.\u001b[39;00m\u001b[34;01mprompts\u001b[39;00m\u001b[38;5;250m \u001b[39m\u001b[38;5;28;01mimport\u001b[39;00m PromptTemplate\n",
      "\u001b[31mModuleNotFoundError\u001b[39m: No module named 'langchain_ollama'"
     ]
    }
   ],
   "source": [
    "from langchain_ollama import ChatOllama\n",
    "\n",
    "from tools.network import ping_ip, query_dns_record, get_domain_metadata\n",
    "from langchain_core.prompts import PromptTemplate\n",
    "from langchain.agents import create_tool_calling_agent\n",
    "from langchain.agents import AgentExecutor"
   ]
  },
  {
   "cell_type": "code",
   "execution_count": null,
   "id": "392e371d",
   "metadata": {},
   "outputs": [
    {
     "name": "stderr",
     "output_type": "stream",
     "text": [
      "C:\\Users\\enmanuel medina\\AppData\\Local\\Temp\\ipykernel_10412\\2269374032.py:1: LangChainDeprecationWarning: The method `BaseTool.__call__` was deprecated in langchain-core 0.1.47 and will be removed in 1.0. Use :meth:`~invoke` instead.\n",
      "  get_whois_info(\"bohiio.com\")\n"
     ]
    },
    {
     "data": {
      "text/plain": [
       "WhoisRecord(domain_name='BOHIIO.COM', registrar='Squarespace Domains II LLC', whois_server='whois.squarespace.domains', updated_date=[datetime.datetime(2024, 7, 27, 16, 12, 50), datetime.datetime(2024, 7, 27, 16, 12, 50, 222609)], creation_date=datetime.datetime(2020, 8, 11, 2, 9, 55), expiration_date=datetime.datetime(2025, 8, 11, 2, 9, 55), name_servers=['CHAN.NS.CLOUDFLARE.COM', 'FELICITY.NS.CLOUDFLARE.COM'], status=['clientDeleteProhibited https://icann.org/epp#clientDeleteProhibited', 'clientTransferProhibited https://icann.org/epp#clientTransferProhibited', 'client transfer prohibited http://www.icann.org/epp#client transfer prohibited', 'client delete prohibited http://www.icann.org/epp#client delete prohibited'], emails=['abuse-complaints@squarespace.com'], dnssec='unsigned', name='REDACTED FOR PRIVACY', org='', country='DO')"
      ]
     },
     "execution_count": 2,
     "metadata": {},
     "output_type": "execute_result"
    }
   ],
   "source": [
    "get_domain_metadata(\"bohiio.com\")"
   ]
  },
  {
   "cell_type": "code",
   "execution_count": null,
   "id": "da0b4e8b",
   "metadata": {},
   "outputs": [],
   "source": [
    "model=\"llama3.2:3b\"\n",
    "# network support tools\n",
    "tools = [\n",
    "    ping_ip,\n",
    "    query_dns_record,\n",
    "    get_domain_metadata,    \n",
    "]"
   ]
  },
  {
   "cell_type": "code",
   "execution_count": 4,
   "id": "a96a2e36",
   "metadata": {},
   "outputs": [],
   "source": [
    "template = \"\"\"\n",
    "    You are a network support assistant. Your role is to help users diagnose and resolve networking issues by using the tools provided. You are knowledgeable in network protocols, diagnostics, configurations, and common issues related to connectivity, latency, DNS, firewalls, and more.\n",
    "    \n",
    "    Answer the following questions as best you can. You have access to the following tools:\n",
    "\n",
    "    {tools}\n",
    "\n",
    "    Use the following format:\n",
    "\n",
    "    Question: the input question you must answer\n",
    "    Thought: you should always think about what to do\n",
    "    Action: the action to take, should be one of [{tool_names}]\n",
    "    Action Input: the input to the action\n",
    "    Observation: the result of the action\n",
    "    ... (this Thought/Action/Action Input/Observation can repeat N times)\n",
    "    Thought: I now know the final answer\n",
    "    Final Answer: the final answer to the original input question. It must be on the same language as the input question.\n",
    "\n",
    "    Begin!\n",
    "\n",
    "    Question: {input}\n",
    "    Thought: {agent_scratchpad}\n",
    "\"\"\"\n",
    "tool_descriptions = \"\\n\".join([f\"{tool.name}: {tool.description}\" for tool in tools])\n",
    "tool_names = \", \".join([tool.name for tool in tools])\n",
    "prompt_template = PromptTemplate(\n",
    "    input_variables=[\"input\"],\n",
    "    template=template,\n",
    "    partial_variables={\"tools\": tool_descriptions, \"tool_names\": tool_names},\n",
    ")"
   ]
  },
  {
   "cell_type": "code",
   "execution_count": 5,
   "id": "06b8e784",
   "metadata": {},
   "outputs": [],
   "source": [
    "\n",
    "llm = ChatOllama(model=\"llama3.2:3b\", temperature=0)\n",
    "\n",
    "agent = create_tool_calling_agent(llm, tools, prompt_template)\n",
    "agent_executor = AgentExecutor(agent=agent, tools=tools, verbose=True)"
   ]
  },
  {
   "cell_type": "code",
   "execution_count": 6,
   "id": "cb2f4dd1",
   "metadata": {},
   "outputs": [
    {
     "name": "stdout",
     "output_type": "stream",
     "text": [
      "\n",
      "\n",
      "\u001b[1m> Entering new AgentExecutor chain...\u001b[0m\n",
      "\u001b[32;1m\u001b[1;3m\n",
      "Invoking: `query_dns_record` with `{'domain_name': 'www.bohiio.com', 'record_type': 'SOA'}`\n",
      "\n",
      "\n",
      "\u001b[0m\u001b[33;1m\u001b[1;3m['No SOA records found.']\u001b[0m\u001b[32;1m\u001b[1;3m\n",
      "Invoking: `query_dns_record` with `{'domain_name': 'www.bohiio.com', 'record_type': 'SOA'}`\n",
      "\n",
      "\n",
      "\u001b[0m\u001b[33;1m\u001b[1;3m['No SOA records found.']\u001b[0m\u001b[32;1m\u001b[1;3m\n",
      "Invoking: `query_dns_record` with `{'domain_name': 'www.bohiio.com', 'record_type': 'SOA'}`\n",
      "\n",
      "\n",
      "\u001b[0m\u001b[33;1m\u001b[1;3m['No SOA records found.']\u001b[0m\u001b[32;1m\u001b[1;3m\n",
      "Invoking: `get_whois_info` with `{'domain': 'www.bohiio.com'}`\n",
      "\n",
      "\n",
      "\u001b[0m\u001b[38;5;200m\u001b[1;3mdomain_name='BOHIIO.COM' registrar='Squarespace Domains II LLC' whois_server='whois.squarespace.domains' updated_date=[datetime.datetime(2024, 7, 27, 16, 12, 50), datetime.datetime(2024, 7, 27, 16, 12, 50, 222609)] creation_date=datetime.datetime(2020, 8, 11, 2, 9, 55) expiration_date=datetime.datetime(2025, 8, 11, 2, 9, 55) name_servers=['CHAN.NS.CLOUDFLARE.COM', 'FELICITY.NS.CLOUDFLARE.COM'] status=['clientDeleteProhibited https://icann.org/epp#clientDeleteProhibited', 'clientTransferProhibited https://icann.org/epp#clientTransferProhibited', 'client transfer prohibited http://www.icann.org/epp#client transfer prohibited', 'client delete prohibited http://www.icann.org/epp#client delete prohibited'] emails=['abuse-complaints@squarespace.com'] dnssec='unsigned' name='REDACTED FOR PRIVACY' org='' country='DO'\u001b[0m\u001b[32;1m\u001b[1;3m\n",
      "Invoking: `get_whois_info` with `{'domain': 'www.bohiio.com'}`\n",
      "\n",
      "\n",
      "\u001b[0m\u001b[38;5;200m\u001b[1;3mdomain_name='BOHIIO.COM' registrar='Squarespace Domains II LLC' whois_server='whois.squarespace.domains' updated_date=[datetime.datetime(2024, 7, 27, 16, 12, 50), datetime.datetime(2024, 7, 27, 16, 12, 50, 222609)] creation_date=datetime.datetime(2020, 8, 11, 2, 9, 55) expiration_date=datetime.datetime(2025, 8, 11, 2, 9, 55) name_servers=['CHAN.NS.CLOUDFLARE.COM', 'FELICITY.NS.CLOUDFLARE.COM'] status=['clientDeleteProhibited https://icann.org/epp#clientDeleteProhibited', 'clientTransferProhibited https://icann.org/epp#clientTransferProhibited', 'client transfer prohibited http://www.icann.org/epp#client transfer prohibited', 'client delete prohibited http://www.icann.org/epp#client delete prohibited'] emails=['abuse-complaints@squarespace.com'] dnssec='unsigned' name='REDACTED FOR PRIVACY' org='' country='DO'\u001b[0m\u001b[32;1m\u001b[1;3m\n",
      "Invoking: `query_dns_record` with `{'domain_name': 'www.bohiio.com', 'record_type': 'SOA'}`\n",
      "\n",
      "\n",
      "\u001b[0m\u001b[33;1m\u001b[1;3m['No SOA records found.']\u001b[0m\u001b[32;1m\u001b[1;3m\n",
      "Invoking: `get_whois_info` with `{'domain': 'www.bohiio.com'}`\n",
      "\n",
      "\n",
      "\u001b[0m\u001b[38;5;200m\u001b[1;3mdomain_name='BOHIIO.COM' registrar='Squarespace Domains II LLC' whois_server='whois.squarespace.domains' updated_date=[datetime.datetime(2024, 7, 27, 16, 12, 50), datetime.datetime(2024, 7, 27, 16, 12, 50, 222609)] creation_date=datetime.datetime(2020, 8, 11, 2, 9, 55) expiration_date=datetime.datetime(2025, 8, 11, 2, 9, 55) name_servers=['CHAN.NS.CLOUDFLARE.COM', 'FELICITY.NS.CLOUDFLARE.COM'] status=['clientDeleteProhibited https://icann.org/epp#clientDeleteProhibited', 'clientTransferProhibited https://icann.org/epp#clientTransferProhibited', 'client transfer prohibited http://www.icann.org/epp#client transfer prohibited', 'client delete prohibited http://www.icann.org/epp#client delete prohibited'] emails=['abuse-complaints@squarespace.com'] dnssec='unsigned' name='REDACTED FOR PRIVACY' org='' country='DO'\u001b[0m\u001b[32;1m\u001b[1;3m\n",
      "Invoking: `get_whois_info` with `{'domain': 'www.bohiio.com'}`\n",
      "\n",
      "\n",
      "\u001b[0m\u001b[38;5;200m\u001b[1;3mdomain_name='BOHIIO.COM' registrar='Squarespace Domains II LLC' whois_server='whois.squarespace.domains' updated_date=[datetime.datetime(2024, 7, 27, 16, 12, 50), datetime.datetime(2024, 7, 27, 16, 12, 50, 222609)] creation_date=datetime.datetime(2020, 8, 11, 2, 9, 55) expiration_date=datetime.datetime(2025, 8, 11, 2, 9, 55) name_servers=['CHAN.NS.CLOUDFLARE.COM', 'FELICITY.NS.CLOUDFLARE.COM'] status=['clientDeleteProhibited https://icann.org/epp#clientDeleteProhibited', 'clientTransferProhibited https://icann.org/epp#clientTransferProhibited', 'client transfer prohibited http://www.icann.org/epp#client transfer prohibited', 'client delete prohibited http://www.icann.org/epp#client delete prohibited'] emails=['abuse-complaints@squarespace.com'] dnssec='unsigned' name='REDACTED FOR PRIVACY' org='' country='DO'\u001b[0m\u001b[32;1m\u001b[1;3mQuestion: What is the country of origin for the domain BOHIIO.COM?\n",
      "\n",
      "Answer: The country of origin for the domain BOHIIO.COM is DO (Dominican Republic). \n",
      "\n",
      "Note: The country code 'DO' is used to represent the Dominican Republic.\u001b[0m\n",
      "\n",
      "\u001b[1m> Finished chain.\u001b[0m\n"
     ]
    }
   ],
   "source": [
    "response = agent_executor.invoke(input={\"input\": \"Sabes de que pais es el dominio www.bohiio.com?\"})"
   ]
  },
  {
   "cell_type": "code",
   "execution_count": 7,
   "id": "900f701f",
   "metadata": {},
   "outputs": [
    {
     "name": "stdout",
     "output_type": "stream",
     "text": [
      "Response from the network support bot:\n",
      "<class 'dict'>\n",
      "Question: What is the country of origin for the domain BOHIIO.COM?\n",
      "\n",
      "Answer: The country of origin for the domain BOHIIO.COM is DO (Dominican Republic). \n",
      "\n",
      "Note: The country code 'DO' is used to represent the Dominican Republic.\n"
     ]
    }
   ],
   "source": [
    "print(\"Response from the network support bot:\")\n",
    "print(type(response))\n",
    "print(response[\"output\"])"
   ]
  },
  {
   "cell_type": "code",
   "execution_count": 5,
   "id": "8f115637",
   "metadata": {},
   "outputs": [],
   "source": [
    "from tools.vectordb import init_vector_db"
   ]
  },
  {
   "cell_type": "code",
   "execution_count": 6,
   "id": "6c178cc4",
   "metadata": {},
   "outputs": [
    {
     "name": "stdout",
     "output_type": "stream",
     "text": [
      "Initializing Pinecone...\n",
      "Using Pinecone index: network-support-chatbot\n",
      "Initializing embeddings...\n",
      "Creating Pinecone vector store...\n",
      "Pinecone vector store initialized.\n"
     ]
    }
   ],
   "source": [
    "vectordb = init_vector_db()"
   ]
  },
  {
   "cell_type": "code",
   "execution_count": 21,
   "id": "a72a9443",
   "metadata": {},
   "outputs": [
    {
     "name": "stdout",
     "output_type": "stream",
     "text": [
      "* CHAPTER 8\n",
      "OSPF\n",
      "This chapter covers the following subjects:\n",
      "OSPF Fundamentals: This section provides an overview of communication between \n",
      "OSPF routers.\n",
      "OSPF Configuration: This section describes the OSPF configuration techniques and \n",
      "commands that can be executed to verify the exchange of routes.\n",
      "Default Route Advertisement: This section explains how default routes are advertised in \n",
      "OSPF.\n",
      "Common OSPF Optimizations: This section reviews common OSPF settings for \n",
      "optimizing the operation of the protocol.\n",
      "The Open Shortest Path First (OSPF) protocol is the first link-state routing protocol covered \n",
      "in this book. OSPF is a nonproprietary Interior Gateway Protocol (IGP) that overcomes the \n",
      "deficiencies of other distance vector routing protocols and distributes routing information \n",
      "within a single OSPF routing domain. OSPF introduced the concept of variable-length sub-\n",
      "net masking (VLSM), which supports classless routing, summarization, authentication, and \n",
      "external route tagging. There are two main versions of OSPF in production networks today:\n",
      " \n",
      "■OSPF Version 2 (OSPFv2): Defined in RFC 2328 and supports IPv4 \n",
      " \n",
      "■OSPF Version 3 (OSPFv3): Defined in RFC 5340 and modifies the original structure \n",
      "to support IPv6\n",
      "This chapter explains the core concepts of OSPF and the basics of establishing neighbor-\n",
      "ships and exchanging routes with other OSPF routers. Two other chapters in this book also \n",
      "cover OSPF-related topics. Here is an overview of them:\n",
      " \n",
      "■Chapter 9, “Advanced OSPF”: Explains the function of segmenting the OSPF domain \n",
      "into smaller areas to support larger topologies.\n",
      " \n",
      "■Chapter 10, “OSPFv3”: Explains how OSPF can be used for routing IPv6 packets.\n",
      "“Do I Know This Already?” Quiz\n",
      "The “Do I Know This Already?” quiz allows you to assess whether you should read the entire \n",
      "chapter. If you miss no more than one of these self-assessment questions, you might want \n",
      "to move ahead to the “Exam Preparation Tasks” section. Table 8-1 lists the major headings \n",
      "in this chapter and the “Do I Know This Already?” quiz questions covering the material in \n",
      "those headings so you can assess your knowledge of these specific areas. The answers to the \n",
      "“Do I Know This Already?” quiz appear in Appendix A, “Answers to the ‘Do I Know This \n",
      "Already?’ Quiz Questions.” [{'author': '', 'creationDate': \"D:20200109173217+03'30'\", 'creationdate': '2020-01-09T17:32:17+03:30', 'creator': '', 'file_path': '/content/drive/My Drive/viu_train/CCNP-ENT-ENCOR.pdf', 'format': 'PDF 1.7', 'keywords': '', 'modDate': \"D:20200109184033+03'30'\", 'moddate': '2020-01-09T18:40:33+03:30', 'page': 208.0, 'producer': '', 'source': 'CCNP-ENT-ENCOR.pdf', 'subject': '', 'title': '', 'total_pages': 1073.0, 'trapped': ''}]\n",
      "* Chapter 10: OSPFv3  239\n",
      "References in This Chapter\n",
      "RFC 5340, OSPF for IPv6, R. Coltun, D. Ferguson, J. Moy, A. Lindem, IETF. \n",
      "http://www.ietf.org/rfc/rfc5340.txt, July 2008.\n",
      "IP Routing on Cisco IOS, IOS XE, and IOS XR, by Brad Edgeworth, Aaron Foss, and \n",
      "Ramiro Garza Rios. Cisco Press, 2014.\n",
      "Cisco IOS Software Configuration Guides. http://www.cisco.com.\n",
      "10 [{'author': '', 'creationDate': \"D:20200109173217+03'30'\", 'creationdate': '2020-01-09T17:32:17+03:30', 'creator': '', 'file_path': '/content/drive/My Drive/viu_train/CCNP-ENT-ENCOR.pdf', 'format': 'PDF 1.7', 'keywords': '', 'modDate': \"D:20200109184033+03'30'\", 'moddate': '2020-01-09T18:40:33+03:30', 'page': 283.0, 'producer': '', 'source': 'CCNP-ENT-ENCOR.pdf', 'subject': '', 'title': '', 'total_pages': 1073.0, 'trapped': ''}]\n",
      "* Chapter 8: OSPF  167\n",
      "Topology\n",
      "R1’s SPF Tree\n",
      "R4’s SPF Tree\n",
      "10.1.1.0/24\n",
      "(10)\n",
      "(10)\n",
      "(10)\n",
      "(10)\n",
      "(10)\n",
      "(10)\n",
      "(10)\n",
      "(10)\n",
      "(10)\n",
      "(10)\n",
      "(20)\n",
      "(20)\n",
      "(10)\n",
      "(10)\n",
      "R1\n",
      "R2\n",
      "R4\n",
      "R3\n",
      "(10)\n",
      "10.3.3.0/24\n",
      "10.1.1.0/24\n",
      "10.2.2.0/24\n",
      "10.34.1.0/24\n",
      "(10)\n",
      "10.4.4.0/24\n",
      "(10)\n",
      "R1\n",
      "R2\n",
      "R3\n",
      "R4\n",
      "10.4.4.0/24\n",
      "10.3.3.0/24\n",
      "10.2.2.0/24\n",
      "(10)\n",
      "(10)\n",
      "(10)\n",
      "(10)\n",
      "(10)\n",
      "R4\n",
      "R2\n",
      "R1\n",
      "R3\n",
      "10.4.4.0/24\n",
      "10.1.1.0/24\n",
      "10.3.3.0/24\n",
      "10.2.2.0/24\n",
      "Figure 8-1 OSPF Shortest Path First (SPF) Tree\n",
      "The SPTs give the illusion that no redundancy exists to the networks, but remember that the \n",
      "SPT shows the shortest path to reach a network and is built from the LSDB, which contains \n",
      "all the links for an area. During a topology change, the SPT is rebuilt and may change.\n",
      "OSPF provides scalability for the routing table by using multiple OSPF areas within the \n",
      "routing domain. Each OSPF area provides a collection of connected networks and hosts \n",
      "that are grouped together. OSPF uses a two-tier hierarchical architecture, where Area 0 is a \n",
      "special area known as the backbone, to which all other areas must connect. In other words, \n",
      "Area 0 provides transit connectivity between nonbackbone areas. Nonbackbone areas \n",
      "advertise routes into the backbone, and the backbone then advertises routes into other non-\n",
      "backbone areas.\n",
      "Figure 8-2 shows route advertisement into other areas. Area 12 routes are advertised to \n",
      "Area 0 and then into Area 34. Area 34 routes are advertised to Area 0 and then into Area 12. \n",
      "Area 0 routes are advertised into all other OSPF areas.\n",
      "Area 12\n",
      "Area 34\n",
      "Area 34 Routes\n",
      "R1\n",
      "R2\n",
      "R3\n",
      "R4\n",
      "Area 0\n",
      "Backbone\n",
      "Area 12 Routes\n",
      "Area 0 Routes\n",
      "Area 34 Routes\n",
      "Area 12 Routes\n",
      "Area 0 Routes\n",
      "Figure 8-2 Two-Tier Hierarchical Area Structure\n",
      "The exact topology of the area is invisible from outside the area while still providing con-\n",
      "nectivity to routers outside the area. This means that routers outside the area do not have a \n",
      "complete topological map for that area, which reduces OSPF traffic in that area. When you \n",
      "segment an OSPF routing domain into multiple areas, it is no longer true that all OSPF rout-\n",
      "ers will have identical LSDBs; however, all routers within the same area will have identical \n",
      "area LSDBs.\n",
      "8 [{'author': '', 'creationDate': \"D:20200109173217+03'30'\", 'creationdate': '2020-01-09T17:32:17+03:30', 'creator': '', 'file_path': '/content/drive/My Drive/viu_train/CCNP-ENT-ENCOR.pdf', 'format': 'PDF 1.7', 'keywords': '', 'modDate': \"D:20200109184033+03'30'\", 'moddate': '2020-01-09T18:40:33+03:30', 'page': 211.0, 'producer': '', 'source': 'CCNP-ENT-ENCOR.pdf', 'subject': '', 'title': '', 'total_pages': 1073.0, 'trapped': ''}]\n"
     ]
    }
   ],
   "source": [
    "results = vectordb.max_marginal_relevance_search(query=\"What is OSPF?\",k=3)\n",
    "for doc in results:\n",
    "    print(f\"* {doc.page_content} [{doc.metadata}]\")"
   ]
  },
  {
   "cell_type": "code",
   "execution_count": 22,
   "id": "d0663cfc",
   "metadata": {},
   "outputs": [],
   "source": [
    "a = vectordb.as_retriever()"
   ]
  },
  {
   "cell_type": "code",
   "execution_count": 24,
   "id": "97e9a7b7",
   "metadata": {},
   "outputs": [
    {
     "data": {
      "text/plain": [
       "'CHAPTER 8\\nOSPF\\nThis chapter covers the following subjects:\\nOSPF Fundamentals: This section provides an overview of communication between \\nOSPF routers.\\nOSPF Configuration: This section describes the OSPF configuration techniques and \\ncommands that can be executed to verify the exchange of routes.\\nDefault Route Advertisement: This section explains how default routes are advertised in \\nOSPF.\\nCommon OSPF Optimizations: This section reviews common OSPF settings for \\noptimizing the operation of the protocol.\\nThe Open Shortest Path First (OSPF) protocol is the first link-state routing protocol covered \\nin this book. OSPF is a nonproprietary Interior Gateway Protocol (IGP) that overcomes the \\ndeficiencies of other distance vector routing protocols and distributes routing information \\nwithin a single OSPF routing domain. OSPF introduced the concept of variable-length sub-\\nnet masking (VLSM), which supports classless routing, summarization, authentication, and \\nexternal route tagging. There are two main versions of OSPF in production networks today:\\n \\n■OSPF Version 2 (OSPFv2): Defined in RFC 2328 and supports IPv4 \\n \\n■OSPF Version 3 (OSPFv3): Defined in RFC 5340 and modifies the original structure \\nto support IPv6\\nThis chapter explains the core concepts of OSPF and the basics of establishing neighbor-\\nships and exchanging routes with other OSPF routers. Two other chapters in this book also \\ncover OSPF-related topics. Here is an overview of them:\\n \\n■Chapter 9, “Advanced OSPF”: Explains the function of segmenting the OSPF domain \\ninto smaller areas to support larger topologies.\\n \\n■Chapter 10, “OSPFv3”: Explains how OSPF can be used for routing IPv6 packets.\\n“Do I Know This Already?” Quiz\\nThe “Do I Know This Already?” quiz allows you to assess whether you should read the entire \\nchapter. If you miss no more than one of these self-assessment questions, you might want \\nto move ahead to the “Exam Preparation Tasks” section. Table 8-1 lists the major headings \\nin this chapter and the “Do I Know This Already?” quiz questions covering the material in \\nthose headings so you can assess your knowledge of these specific areas. The answers to the \\n“Do I Know This Already?” quiz appear in Appendix A, “Answers to the ‘Do I Know This \\nAlready?’ Quiz Questions.”'"
      ]
     },
     "execution_count": 24,
     "metadata": {},
     "output_type": "execute_result"
    }
   ],
   "source": [
    "a.invoke(\"What is OSPF?\")[0].page_content"
   ]
  },
  {
   "cell_type": "code",
   "execution_count": 1,
   "id": "c2dabc83",
   "metadata": {},
   "outputs": [
    {
     "name": "stderr",
     "output_type": "stream",
     "text": [
      "c:\\Users\\enmanuel medina\\Desktop\\pii\\VIU\\trabajo fin master\\network-support-chatbot\\.venv\\Lib\\site-packages\\tqdm\\auto.py:21: TqdmWarning: IProgress not found. Please update jupyter and ipywidgets. See https://ipywidgets.readthedocs.io/en/stable/user_install.html\n",
      "  from .autonotebook import tqdm as notebook_tqdm\n"
     ]
    }
   ],
   "source": [
    "from tools.vectordb import knowledge_base"
   ]
  },
  {
   "cell_type": "code",
   "execution_count": 3,
   "id": "adf7aae8",
   "metadata": {},
   "outputs": [
    {
     "name": "stdout",
     "output_type": "stream",
     "text": [
      "Initializing Pinecone...\n",
      "Using Pinecone index: network-support-chatbot\n",
      "Initializing embeddings...\n",
      "Creating Pinecone vector store...\n",
      "Pinecone vector store initialized.\n"
     ]
    }
   ],
   "source": [
    "from tools.vectordb import init_vector_db\n",
    "\n",
    "vector_db = init_vector_db()\n"
   ]
  },
  {
   "cell_type": "code",
   "execution_count": 16,
   "id": "58337ecd",
   "metadata": {},
   "outputs": [
    {
     "data": {
      "text/plain": [
       "[(Document(id='ed6b82c5-05c5-4080-842c-2f36134ea743', metadata={'author': '', 'creationDate': \"D:20200109173217+03'30'\", 'creationdate': '2020-01-09T17:32:17+03:30', 'creator': '', 'file_path': '/content/drive/My Drive/viu_train/CCNP-ENT-ENCOR.pdf', 'format': 'PDF 1.7', 'keywords': '', 'modDate': \"D:20200109184033+03'30'\", 'moddate': '2020-01-09T18:40:33+03:30', 'page': 0.0, 'producer': '', 'source': 'CCNP-ENT-ENCOR.pdf', 'subject': '', 'title': '', 'total_pages': 1073.0, 'trapped': ''}, page_content=''),\n",
       "  0.856493533),\n",
       " (Document(id='7ed51669-6706-4ddf-895c-76f26ef10d1f', metadata={'author': '', 'creationDate': \"D:20200109173217+03'30'\", 'creationdate': '2020-01-09T17:32:17+03:30', 'creator': '', 'file_path': '/content/drive/My Drive/viu_train/CCNP-ENT-ENCOR.pdf', 'format': 'PDF 1.7', 'keywords': '', 'modDate': \"D:20200109184033+03'30'\", 'moddate': '2020-01-09T18:40:33+03:30', 'page': 940.0, 'producer': '', 'source': 'CCNP-ENT-ENCOR.pdf', 'subject': '', 'title': '', 'total_pages': 1073.0, 'trapped': ''}, page_content=''),\n",
       "  0.856493533),\n",
       " (Document(id='9b28ca72-2457-4b38-97df-25fbbd1e1a2e', metadata={'author': 'HP, Inc.', 'creationDate': \"D:20250612142538+00'00'\", 'creationdate': '2025-06-12T14:25:38+00:00', 'creator': 'AH XSL Formatter V7.2 MR3 for Windows (x64) : 7.2.4.55390 (2022-01-31T09:48+09)', 'file_path': '/content/drive/My Drive/viu_train/pdf_3943391_en-US-1.pdf', 'format': 'PDF 1.6', 'keywords': '', 'modDate': \"D:20250612142538+00'00'\", 'moddate': '2025-06-12T14:25:38+00:00', 'page': 2.0, 'producer': 'Antenna House PDF Output Library 7.2.1732', 'source': 'pdf_3943391_en-US-1.pdf', 'subject': '', 'title': 'HP LaserJet Pro MFP 4103 - User Guide', 'total_pages': 212.0, 'trapped': ''}, page_content='Legal information\\nCopyright and License\\n© Copyright 2022 HP Development \\nCompany, L.P.\\nReproduction, adaptation, or translation \\nwithout prior written permission is \\nprohibited, except as allowed under the \\ncopyright laws.\\nThe information contained herein is subject \\nto change without notice.\\nThe only warranties for HP products and \\nservices are set forth in the express \\nwarranty statements accompanying such \\nproducts and services. Nothing herein \\nshould be construed as constituting an \\nadditional warranty. HP shall not be liable \\nfor technical or editorial errors or omissions \\ncontained herein.\\nEdition 1, 04/2022\\nTrademark Credits\\nAdobe®, Adobe Photoshop®, Acrobat®, and \\nPostScript® are trademarks of Adobe \\nSystems Incorporated.\\nApple and the Apple logo are trademarks of \\nApple Inc., registered in the U.S. and other \\ncountries.\\nmacOS is a trademark of Apple Inc., \\nregistered in the U.S. and other countries.\\nAirPrint is a trademark of Apple Inc., \\nregistered in the U.S. and other countries.\\nGoogle™ is a trademark of Google Inc.\\nMicrosoft®, Windows®, and Windows Server® \\nare U.S. registered trademarks of Microsoft \\nCorporation.\\nUNIX® is a registered trademark of The Open \\nGroup.'),\n",
       "  0.834573686)]"
      ]
     },
     "execution_count": 16,
     "metadata": {},
     "output_type": "execute_result"
    }
   ],
   "source": [
    "vector_db.similarity_search_with_score(\"aon;wenwefnsdaxzjnw1nlnqascdsr1-03.\", k=3)"
   ]
  },
  {
   "cell_type": "code",
   "execution_count": 3,
   "id": "61be31a4",
   "metadata": {},
   "outputs": [
    {
     "name": "stdout",
     "output_type": "stream",
     "text": [
      "1. CHAPTER 8\n",
      "OSPF\n",
      "This chapter covers the following subjects:\n",
      "OSPF Fundamentals: This section provides an overview of communication between \n",
      "OSPF routers.\n",
      "OSPF Configuration: This section describes the OSPF configuration techniques and \n",
      "commands that can be executed to verify the exchange of routes.\n",
      "Default Route Advertisement: This section explains how default routes are advertised in \n",
      "OSPF.\n",
      "Common OSPF Optimizations: This section reviews common OSPF settings for \n",
      "optimizing the operation of the protocol.\n",
      "The Open Shortest Path First (OSPF) protocol is the first link-state routing protocol covered \n",
      "in this book. OSPF is a nonproprietary Interior Gateway Protocol (IGP) that overcomes the \n",
      "deficiencies of other distance vector routing protocols and distributes routing information \n",
      "within a single OSPF routing domain. OSPF introduced the concept of variable-length sub-\n",
      "net masking (VLSM), which supports classless routing, summarization, authentication, and \n",
      "external route tagging. There are two main versions of OSPF in production networks today:\n",
      " \n",
      "■OSPF Version 2 (OSPFv2): Defined in RFC 2328 and supports IPv4 \n",
      " \n",
      "■OSPF Version 3 (OSPFv3): Defined in RFC 5340 and modifies the original structure \n",
      "to support IPv6\n",
      "This chapter explains the core concepts of OSPF and the basics of establishing neighbor-\n",
      "ships and exchanging routes with other OSPF routers. Two other chapters in this book also \n",
      "cover OSPF-related topics. Here is an overview of them:\n",
      " \n",
      "■Chapter 9, “Advanced OSPF”: Explains the function of segmenting the OSPF domain \n",
      "into smaller areas to support larger topologies.\n",
      " \n",
      "■Chapter 10, “OSPFv3”: Explains how OSPF can be used for routing IPv6 packets.\n",
      "“Do I Know This Already?” Quiz\n",
      "The “Do I Know This Already?” quiz allows you to assess whether you should read the entire \n",
      "chapter. If you miss no more than one of these self-assessment questions, you might want \n",
      "to move ahead to the “Exam Preparation Tasks” section. Table 8-1 lists the major headings \n",
      "in this chapter and the “Do I Know This Already?” quiz questions covering the material in \n",
      "those headings so you can assess your knowledge of these specific areas. The answers to the \n",
      "“Do I Know This Already?” quiz appear in Appendix A, “Answers to the ‘Do I Know This \n",
      "Already?’ Quiz Questions.”\n",
      "2. Chapter 10: OSPFv3  239\n",
      "References in This Chapter\n",
      "RFC 5340, OSPF for IPv6, R. Coltun, D. Ferguson, J. Moy, A. Lindem, IETF. \n",
      "http://www.ietf.org/rfc/rfc5340.txt, July 2008.\n",
      "IP Routing on Cisco IOS, IOS XE, and IOS XR, by Brad Edgeworth, Aaron Foss, and \n",
      "Ramiro Garza Rios. Cisco Press, 2014.\n",
      "Cisco IOS Software Configuration Guides. http://www.cisco.com.\n",
      "10\n",
      "3. Chapter 9: Advanced OSPF  197\n",
      " \n",
      "■The LSDB for the area grows, consuming more memory, and taking longer during the \n",
      "SPF computation process.\n",
      " \n",
      "■No summarization of route information occurs.\n",
      "Proper design addresses each of these issues by segmenting the routers into multiple OSPF \n",
      "areas, thereby keeping the LSDB to a manageable size. Sizing and design of OSPF networks \n",
      "should account for the hardware constraints of the smallest router in that area.\n",
      "If a router has interfaces in multiple areas, the router has multiple LSDBs (one for each area). \n",
      "The internal topology of one area is invisible from outside that area. If a topology change \n",
      "occurs (such as a link flap or an additional network being added) within an area, all routers in \n",
      "the same OSPF area calculate the SPF tree again. Routers outside that area do not calculate \n",
      "the full SPF tree again but perform a partial SPF calculation if the metrics have changed or a \n",
      "prefix is removed.\n",
      "In essence, an OSPF area hides the topology from another area but enables the networks to \n",
      "be visible in other areas within the OSPF domain. Segmenting the OSPF domain into mul-\n",
      "tiple areas reduces the size of the LSDB for each area, making SPF tree calculations faster, \n",
      "and decreasing LSDB flooding between routers when a link flaps.\n",
      "Just because a router connects to multiple OSPF areas does not mean the routes from one \n",
      "area will be injected into another area. Figure 9-1 shows router R1 connected to Area 1 and \n",
      "Area 2. Routes from Area 1 will not advertise into Area 2 and vice versa.\n",
      "Area 1\n",
      "R3\n",
      "R1\n",
      "R2\n",
      "Area 2\n",
      "Area 1 Routes\n",
      "Area 2 Routes\n",
      "Figure 9-1 Failed Route Advertisement Between Areas\n",
      "Area 0 is a special area called the backbone. By design, all areas must connect to Area 0 \n",
      "because OSPF expects all areas to inject routing information into the backbone, and Area 0 \n",
      "advertises the routes into other areas. The backbone design is crucial to preventing routing \n",
      "loops.\n",
      "Area border routers (ABRs) are OSPF routers connected to Area 0 and another OSPF area, \n",
      "per Cisco definition and according to RFC 3509. ABRs are responsible for advertising routes \n",
      "from one area and injecting them into a different OSPF area. Every ABR needs to participate \n",
      "in Area 0; otherwise, routes will not advertise into another area. ABRs compute an SPF tree \n",
      "for every area that they participate in.\n",
      "Figure 9-2 shows that R1 is connected to Area 0, Area 1, and Area 2. R1 is a proper ABR \n",
      "because it now participates in Area 0. The following occurs on R1:\n",
      " \n",
      "■Routes from Area 1 advertise into Area 0.\n",
      " \n",
      "■Routes from Area 2 advertise into Area 0.\n",
      "9\n"
     ]
    }
   ],
   "source": [
    "ans = knowledge_base(\"What is OSPF?\", num_results=3)\n",
    "for i, doc in enumerate(ans):\n",
    "    print(f\"{i+1}. {doc}\")"
   ]
  }
 ],
 "metadata": {
  "kernelspec": {
   "display_name": ".venv",
   "language": "python",
   "name": "python3"
  },
  "language_info": {
   "codemirror_mode": {
    "name": "ipython",
    "version": 3
   },
   "file_extension": ".py",
   "mimetype": "text/x-python",
   "name": "python",
   "nbconvert_exporter": "python",
   "pygments_lexer": "ipython3",
   "version": "3.12.1"
  }
 },
 "nbformat": 4,
 "nbformat_minor": 5
}
